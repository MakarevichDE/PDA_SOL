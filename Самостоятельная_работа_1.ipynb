{
  "nbformat": 4,
  "nbformat_minor": 0,
  "metadata": {
    "colab": {
      "provenance": [],
      "authorship_tag": "ABX9TyNcOjWVwb4XtzvxoQ1jCMXf",
      "include_colab_link": true
    },
    "kernelspec": {
      "name": "python3",
      "display_name": "Python 3"
    },
    "language_info": {
      "name": "python"
    }
  },
  "cells": [
    {
      "cell_type": "markdown",
      "metadata": {
        "id": "view-in-github",
        "colab_type": "text"
      },
      "source": [
        "<a href=\"https://colab.research.google.com/github/MakarevichDE/PDA_SOL/blob/main/%D0%A1%D0%B0%D0%BC%D0%BE%D1%81%D1%82%D0%BE%D1%8F%D1%82%D0%B5%D0%BB%D1%8C%D0%BD%D0%B0%D1%8F_%D1%80%D0%B0%D0%B1%D0%BE%D1%82%D0%B0_1.ipynb\" target=\"_parent\"><img src=\"https://colab.research.google.com/assets/colab-badge.svg\" alt=\"Open In Colab\"/></a>"
      ]
    },
    {
      "cell_type": "markdown",
      "source": [
        "Задание 1. Написать цикл для выведения на экран каждой буквы своего ФИО"
      ],
      "metadata": {
        "id": "Aj266qtaYqu3"
      }
    },
    {
      "cell_type": "code",
      "execution_count": 9,
      "metadata": {
        "colab": {
          "base_uri": "https://localhost:8080/"
        },
        "id": "qqWlwqRxWc-y",
        "outputId": "17e7e693-e7f3-4842-e0ea-df11abc57c7f"
      },
      "outputs": [
        {
          "output_type": "stream",
          "name": "stdout",
          "text": [
            "М\n",
            "а\n",
            "к\n",
            "а\n",
            "р\n",
            "е\n",
            "в\n",
            "и\n",
            "ч\n",
            " \n",
            "Д\n",
            "е\n",
            "н\n",
            "и\n",
            "с\n",
            " \n",
            "Е\n",
            "в\n",
            "г\n",
            "е\n",
            "н\n",
            "ь\n",
            "е\n",
            "в\n",
            "и\n",
            "ч\n"
          ]
        }
      ],
      "source": [
        "for i in 'Макаревич Денис Евгеньевич':\n",
        "  print(i)"
      ]
    },
    {
      "cell_type": "markdown",
      "source": [
        "Задание 2. Написать функцию для перевода рубля в йену c округлением до 2х знаков после запятой."
      ],
      "metadata": {
        "id": "7_BT6sS4YmUT"
      }
    },
    {
      "cell_type": "code",
      "source": [
        "def rub_to_jpy(sumrub):\n",
        "  sumjpy=1.55*sumrub\n",
        "  return round(sumjpy,2)\n",
        "\n",
        "rub_to_jpy(20.1245)"
      ],
      "metadata": {
        "colab": {
          "base_uri": "https://localhost:8080/"
        },
        "id": "Ztk-blhrXIyf",
        "outputId": "fbeffc4d-fa16-45ce-8479-0e6b4c43ea0c"
      },
      "execution_count": 10,
      "outputs": [
        {
          "output_type": "execute_result",
          "data": {
            "text/plain": [
              "31.19"
            ]
          },
          "metadata": {},
          "execution_count": 10
        }
      ]
    }
  ]
}