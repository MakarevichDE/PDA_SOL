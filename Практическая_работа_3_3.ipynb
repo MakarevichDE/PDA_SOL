{
  "nbformat": 4,
  "nbformat_minor": 0,
  "metadata": {
    "colab": {
      "provenance": [],
      "authorship_tag": "ABX9TyOgbLq+xDk3GIEe9VWKXtXU",
      "include_colab_link": true
    },
    "kernelspec": {
      "name": "python3",
      "display_name": "Python 3"
    },
    "language_info": {
      "name": "python"
    }
  },
  "cells": [
    {
      "cell_type": "markdown",
      "metadata": {
        "id": "view-in-github",
        "colab_type": "text"
      },
      "source": [
        "<a href=\"https://colab.research.google.com/github/MakarevichDE/PDA_SOL/blob/main/%D0%9F%D1%80%D0%B0%D0%BA%D1%82%D0%B8%D1%87%D0%B5%D1%81%D0%BA%D0%B0%D1%8F_%D1%80%D0%B0%D0%B1%D0%BE%D1%82%D0%B0_3_3.ipynb\" target=\"_parent\"><img src=\"https://colab.research.google.com/assets/colab-badge.svg\" alt=\"Open In Colab\"/></a>"
      ]
    },
    {
      "cell_type": "code",
      "execution_count": 1,
      "metadata": {
        "id": "dXl95Nx94j9K"
      },
      "outputs": [],
      "source": [
        "import numpy as np"
      ]
    },
    {
      "cell_type": "code",
      "source": [
        "a = 28\n",
        "b = 7\n",
        "y = 3\n",
        "o = 1\n",
        "u = 1\n",
        "v = 5"
      ],
      "metadata": {
        "id": "pYnN3uJD5GWj"
      },
      "execution_count": 34,
      "outputs": []
    },
    {
      "cell_type": "markdown",
      "source": [
        "Задание 1."
      ],
      "metadata": {
        "id": "jRberrEk7hVe"
      }
    },
    {
      "cell_type": "code",
      "source": [
        "A2 = np.matrix([[2, 3+a, 4-u],\n",
        "               [b, y, v],\n",
        "               [5, 10*u, -2]])\n",
        "A2"
      ],
      "metadata": {
        "colab": {
          "base_uri": "https://localhost:8080/"
        },
        "id": "W8PuNSgd4pqO",
        "outputId": "f1bde352-f537-43de-eba6-2f79f8b6618a"
      },
      "execution_count": 35,
      "outputs": [
        {
          "output_type": "execute_result",
          "data": {
            "text/plain": [
              "matrix([[ 2, 31,  3],\n",
              "        [ 7,  3,  5],\n",
              "        [ 5, 10, -2]])"
            ]
          },
          "metadata": {},
          "execution_count": 35
        }
      ]
    },
    {
      "cell_type": "code",
      "source": [
        "B2 = np.matrix([[b, -3, 4+u],\n",
        "               [a, 4, v],\n",
        "               [5*u, 10, -2]])\n",
        "B2"
      ],
      "metadata": {
        "colab": {
          "base_uri": "https://localhost:8080/"
        },
        "id": "gb3YcdPO5frv",
        "outputId": "8647c589-fc70-4142-c83e-7c30dde758b3"
      },
      "execution_count": 36,
      "outputs": [
        {
          "output_type": "execute_result",
          "data": {
            "text/plain": [
              "matrix([[ 7, -3,  5],\n",
              "        [28,  4,  5],\n",
              "        [ 5, 10, -2]])"
            ]
          },
          "metadata": {},
          "execution_count": 36
        }
      ]
    },
    {
      "cell_type": "code",
      "source": [
        "C = np.matrix([[-1, 3+u, 4-v],\n",
        "               [2, 1, v],\n",
        "               [5, 5-u, -2]])\n",
        "C"
      ],
      "metadata": {
        "colab": {
          "base_uri": "https://localhost:8080/"
        },
        "id": "xnxXbaTQ5tQj",
        "outputId": "03810c67-f9cc-4a89-b7d7-7e5392826df5"
      },
      "execution_count": 7,
      "outputs": [
        {
          "output_type": "execute_result",
          "data": {
            "text/plain": [
              "matrix([[-1,  4, -1],\n",
              "        [ 2,  1,  5],\n",
              "        [ 5,  4, -2]])"
            ]
          },
          "metadata": {},
          "execution_count": 7
        }
      ]
    },
    {
      "cell_type": "code",
      "source": [
        "A2*B2*C"
      ],
      "metadata": {
        "colab": {
          "base_uri": "https://localhost:8080/"
        },
        "id": "AE33cg_R6T5Q",
        "outputId": "869483e0-a7b7-4d3e-e47e-bd1115e83894"
      },
      "execution_count": 37,
      "outputs": [
        {
          "output_type": "execute_result",
          "data": {
            "text/plain": [
              "matrix([[ 194, 4372, -475],\n",
              "        [ 124,  833,  -33],\n",
              "        [ 100, 1541, -438]])"
            ]
          },
          "metadata": {},
          "execution_count": 37
        }
      ]
    },
    {
      "cell_type": "markdown",
      "source": [
        "Задание 2."
      ],
      "metadata": {
        "id": "vIwL4Sob7jyT"
      }
    },
    {
      "cell_type": "code",
      "source": [
        "G = np.matrix([[2, 3+a, 4+u, 6],\n",
        "               [b+1, y, v, 12],\n",
        "               [5, -2, 16, u+1],\n",
        "               [2, 7, 11, -6]])\n",
        "G"
      ],
      "metadata": {
        "colab": {
          "base_uri": "https://localhost:8080/"
        },
        "id": "BMOxAcon6YoC",
        "outputId": "2c1dc459-6642-4b1e-b028-199a4523dd80"
      },
      "execution_count": 10,
      "outputs": [
        {
          "output_type": "execute_result",
          "data": {
            "text/plain": [
              "matrix([[ 2, 31,  5,  6],\n",
              "        [ 8,  3,  5, 12],\n",
              "        [ 5, -2, 16,  2],\n",
              "        [ 2,  7, 11, -6]])"
            ]
          },
          "metadata": {},
          "execution_count": 10
        }
      ]
    },
    {
      "cell_type": "code",
      "source": [
        "np.linalg.det(G)"
      ],
      "metadata": {
        "colab": {
          "base_uri": "https://localhost:8080/"
        },
        "id": "AZ7_pg_S67-N",
        "outputId": "3698d87b-3d8f-4f9c-b754-df2462d9fa4b"
      },
      "execution_count": 11,
      "outputs": [
        {
          "output_type": "execute_result",
          "data": {
            "text/plain": [
              "19980.000000000015"
            ]
          },
          "metadata": {},
          "execution_count": 11
        }
      ]
    },
    {
      "cell_type": "code",
      "source": [
        "np.linalg.eig(G)"
      ],
      "metadata": {
        "colab": {
          "base_uri": "https://localhost:8080/"
        },
        "id": "QwCGW80p7GSC",
        "outputId": "0071277e-4842-42c3-ad2f-35a32f510b74"
      },
      "execution_count": 12,
      "outputs": [
        {
          "output_type": "execute_result",
          "data": {
            "text/plain": [
              "(array([ 25.94652312, -16.43073489,  -4.63253307,  10.11674485]),\n",
              " matrix([[ 0.76142326,  0.76536537,  0.86687989,  0.78549332],\n",
              "         [ 0.48096506, -0.4987647 , -0.06815044,  0.31301642],\n",
              "         [ 0.34039116, -0.1715045 , -0.1718026 , -0.5198864 ],\n",
              "         [ 0.27026117,  0.36883036, -0.4629888 , -0.12140471]]))"
            ]
          },
          "metadata": {},
          "execution_count": 12
        }
      ]
    },
    {
      "cell_type": "code",
      "source": [
        "Ginv = np.linalg.inv(G)\n",
        "Ginv"
      ],
      "metadata": {
        "colab": {
          "base_uri": "https://localhost:8080/"
        },
        "id": "h6lljo5t7aKj",
        "outputId": "79ecfc63-d1f2-41be-bca1-c6b508cba046"
      },
      "execution_count": 13,
      "outputs": [
        {
          "output_type": "execute_result",
          "data": {
            "text/plain": [
              "matrix([[-0.0976977 ,  0.22282282, -0.22642643,  0.27247247],\n",
              "        [ 0.02492492,  0.0036036 , -0.02522523,  0.02372372],\n",
              "        [ 0.02772773, -0.06426426,  0.11651652, -0.06196196],\n",
              "        [ 0.04734735, -0.03933934,  0.10870871, -0.16176176]])"
            ]
          },
          "metadata": {},
          "execution_count": 13
        }
      ]
    },
    {
      "cell_type": "markdown",
      "source": [
        "Задание 3."
      ],
      "metadata": {
        "id": "fAnXb-2_7k-X"
      }
    },
    {
      "cell_type": "code",
      "source": [
        "A1 = np.matrix([[2, -5, 7],\n",
        "               [8, 1, 9],\n",
        "               [3, -4, 12]])\n",
        "A1"
      ],
      "metadata": {
        "colab": {
          "base_uri": "https://localhost:8080/"
        },
        "id": "0YiRsDnB7mT7",
        "outputId": "9ba90a53-8390-4235-9215-0983a28feee8"
      },
      "execution_count": 14,
      "outputs": [
        {
          "output_type": "execute_result",
          "data": {
            "text/plain": [
              "matrix([[ 2, -5,  7],\n",
              "        [ 8,  1,  9],\n",
              "        [ 3, -4, 12]])"
            ]
          },
          "metadata": {},
          "execution_count": 14
        }
      ]
    },
    {
      "cell_type": "code",
      "source": [
        "C1 = np.matrix([[-25, -17, 78],\n",
        "               [11, 89, 76],\n",
        "               [-5, 24, 115]])\n",
        "C1"
      ],
      "metadata": {
        "colab": {
          "base_uri": "https://localhost:8080/"
        },
        "id": "QlH_YT7y72HJ",
        "outputId": "5f1932c2-90c4-4954-f7f2-58bc612eb081"
      },
      "execution_count": 17,
      "outputs": [
        {
          "output_type": "execute_result",
          "data": {
            "text/plain": [
              "matrix([[-25, -17,  78],\n",
              "        [ 11,  89,  76],\n",
              "        [ -5,  24, 115]])"
            ]
          },
          "metadata": {},
          "execution_count": 17
        }
      ]
    },
    {
      "cell_type": "code",
      "source": [
        "B1 = np.linalg.solve(A1, C1)\n",
        "B1"
      ],
      "metadata": {
        "colab": {
          "base_uri": "https://localhost:8080/"
        },
        "id": "xeNE8tPa8Hlm",
        "outputId": "5ecc9b22-595d-4c37-f51f-3fdf804fe30c"
      },
      "execution_count": 18,
      "outputs": [
        {
          "output_type": "execute_result",
          "data": {
            "text/plain": [
              "matrix([[-3.,  4.,  1.],\n",
              "        [ 8., 12., -4.],\n",
              "        [ 3.,  5.,  8.]])"
            ]
          },
          "metadata": {},
          "execution_count": 18
        }
      ]
    },
    {
      "cell_type": "code",
      "source": [
        "A1*B1"
      ],
      "metadata": {
        "colab": {
          "base_uri": "https://localhost:8080/"
        },
        "id": "7crD12U58QKH",
        "outputId": "33f69623-ecd1-4c15-e2e3-a8432884ae93"
      },
      "execution_count": 19,
      "outputs": [
        {
          "output_type": "execute_result",
          "data": {
            "text/plain": [
              "matrix([[-25., -17.,  78.],\n",
              "        [ 11.,  89.,  76.],\n",
              "        [ -5.,  24., 115.]])"
            ]
          },
          "metadata": {},
          "execution_count": 19
        }
      ]
    },
    {
      "cell_type": "markdown",
      "source": [
        "Задание 4."
      ],
      "metadata": {
        "id": "pSx88DIV7lzj"
      }
    },
    {
      "cell_type": "code",
      "source": [
        "Y = np.matrix([[3, 1, 1, y],\n",
        "               [1, -u, v, 4],\n",
        "               [-5, 0, -1, -7],\n",
        "               [1, -6, a, 6]])\n",
        "Y"
      ],
      "metadata": {
        "colab": {
          "base_uri": "https://localhost:8080/"
        },
        "id": "CpueCebk8TKz",
        "outputId": "4980edce-9f71-411d-e15e-fab6194a1c9f"
      },
      "execution_count": 38,
      "outputs": [
        {
          "output_type": "execute_result",
          "data": {
            "text/plain": [
              "matrix([[ 3,  1,  1,  3],\n",
              "        [ 1, -1,  5,  4],\n",
              "        [-5,  0, -1, -7],\n",
              "        [ 1, -6, 28,  6]])"
            ]
          },
          "metadata": {},
          "execution_count": 38
        }
      ]
    },
    {
      "cell_type": "code",
      "source": [
        "Z = np.matrix([[a], [b], [-5], [3]])\n",
        "Z"
      ],
      "metadata": {
        "colab": {
          "base_uri": "https://localhost:8080/"
        },
        "id": "GmDK1clV8ztG",
        "outputId": "cf920f12-9657-4843-fed7-1f7150306785"
      },
      "execution_count": 39,
      "outputs": [
        {
          "output_type": "execute_result",
          "data": {
            "text/plain": [
              "matrix([[28],\n",
              "        [ 7],\n",
              "        [-5],\n",
              "        [ 3]])"
            ]
          },
          "metadata": {},
          "execution_count": 39
        }
      ]
    },
    {
      "cell_type": "code",
      "source": [
        "X = np.linalg.solve(Y, Z)\n",
        "X"
      ],
      "metadata": {
        "colab": {
          "base_uri": "https://localhost:8080/"
        },
        "id": "oUu_Opzi9CMb",
        "outputId": "ef92b889-9c1e-4e24-ef6f-fc6e184f0da0"
      },
      "execution_count": 40,
      "outputs": [
        {
          "output_type": "execute_result",
          "data": {
            "text/plain": [
              "matrix([[-3.70967742],\n",
              "        [26.03225806],\n",
              "        [ 5.25806452],\n",
              "        [ 2.61290323]])"
            ]
          },
          "metadata": {},
          "execution_count": 40
        }
      ]
    },
    {
      "cell_type": "code",
      "source": [
        "Y*X"
      ],
      "metadata": {
        "colab": {
          "base_uri": "https://localhost:8080/"
        },
        "id": "9otEnBIm961S",
        "outputId": "4530d378-cc4d-498c-d3a2-a76c4b2b9924"
      },
      "execution_count": 41,
      "outputs": [
        {
          "output_type": "execute_result",
          "data": {
            "text/plain": [
              "matrix([[28.],\n",
              "        [ 7.],\n",
              "        [-5.],\n",
              "        [ 3.]])"
            ]
          },
          "metadata": {},
          "execution_count": 41
        }
      ]
    }
  ]
}